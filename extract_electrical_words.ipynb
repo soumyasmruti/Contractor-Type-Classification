{
 "cells": [
  {
   "cell_type": "code",
   "execution_count": 4,
   "metadata": {
    "collapsed": false
   },
   "outputs": [],
   "source": [
    "import csv\n",
    "import pandas as pa\n",
    "import numpy as np \n",
    "import scipy\n",
    "pa.options.mode.chained_assignment = None"
   ]
  },
  {
   "cell_type": "code",
   "execution_count": 5,
   "metadata": {
    "collapsed": false
   },
   "outputs": [],
   "source": [
    "train = pa.read_csv(\"./data/train_data.csv\", sep='\\t', header=0)"
   ]
  },
  {
   "cell_type": "code",
   "execution_count": 7,
   "metadata": {
    "collapsed": false
   },
   "outputs": [],
   "source": [
    "train = train.fillna(\"0\")"
   ]
  },
  {
   "cell_type": "code",
   "execution_count": 8,
   "metadata": {
    "collapsed": true
   },
   "outputs": [],
   "source": [
    "eleTrain = train.loc[train['type'] == \"ELECTRICAL\"]\n",
    "noneleTrain = train.loc[train['type'] != \"ELECTRICAL\"]"
   ]
  },
  {
   "cell_type": "code",
   "execution_count": 10,
   "metadata": {
    "collapsed": false
   },
   "outputs": [],
   "source": [
    "def columList(colName):\n",
    "    descList = eleTrain[colName].tolist()\n",
    "    noteleList = noneleTrain[colName].tolist()\n",
    "    return descList, noteleList"
   ]
  },
  {
   "cell_type": "code",
   "execution_count": 11,
   "metadata": {
    "collapsed": false
   },
   "outputs": [],
   "source": [
    "from nltk.tokenize import WordPunctTokenizer\n",
    "w = WordPunctTokenizer()\n",
    "\n",
    "from nltk.corpus import stopwords\n",
    "stopwords = stopwords.words('english')\n",
    "\n",
    "def wordList(tempList):\n",
    "    wordList = [item for sublist in tempList if str(sublist) != 'nan' for item in w.tokenize(sublist)]\n",
    "    words = [word for word in wordList if word not in stopwords]\n",
    "    return words\n",
    "\n",
    "def finalWords(colname):\n",
    "    descList, noteleList = columList(colname)\n",
    "    ele_words = wordList(descList)\n",
    "    not_ele_words = wordList(noteleList)\n",
    "    disWords = [word for word in ele_words if word not in not_ele_words]\n",
    "    return disWords"
   ]
  },
  {
   "cell_type": "code",
   "execution_count": 12,
   "metadata": {
    "collapsed": false
   },
   "outputs": [
    {
     "name": "stderr",
     "output_type": "stream",
     "text": [
      "C:\\Users\\soumya\\AppData\\Local\\Enthought\\Canopy\\User\\lib\\site-packages\\IPython\\kernel\\__main__.py:9: UnicodeWarning: Unicode equal comparison failed to convert both arguments to Unicode - interpreting them as being unequal\n"
     ]
    }
   ],
   "source": [
    "with open(\"./data/ele_w_desc.txt\", 'w') as f:\n",
    "    for item in finalWords(\"description\"):\n",
    "        if item.isalpha():\n",
    "            f.write(\"%s\\n\"%item.lower())\n",
    "            \n",
    "with open(\"./data/ele_w_legdesc.txt\", 'w') as f:\n",
    "    for item in finalWords(\"legaldescription\"):\n",
    "        if item.isalpha():\n",
    "            f.write(\"%s\\n\"%item.lower())\n",
    "\n",
    "with open(\"./data/ele_w_bus.txt\", 'w') as f:\n",
    "    for item in finalWords(\"businessname\"):\n",
    "        if item.isalpha():\n",
    "            f.write(\"%s\\n\"%item.lower())\n",
    "            \n",
    "            \n",
    "with open(\"./data/ele_w_lic.txt\", 'w') as f:\n",
    "    for item in finalWords(\"licensetype\"):\n",
    "        if item.isalpha():\n",
    "            f.write(\"%s\\n\"%item.lower())"
   ]
  }
 ],
 "metadata": {
  "kernelspec": {
   "display_name": "Python 2",
   "language": "python",
   "name": "python2"
  },
  "language_info": {
   "codemirror_mode": {
    "name": "ipython",
    "version": 2
   },
   "file_extension": ".py",
   "mimetype": "text/x-python",
   "name": "python",
   "nbconvert_exporter": "python",
   "pygments_lexer": "ipython2",
   "version": "2.7.9"
  }
 },
 "nbformat": 4,
 "nbformat_minor": 0
}
